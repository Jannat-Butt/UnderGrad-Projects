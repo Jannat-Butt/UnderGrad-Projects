{
 "cells": [
  {
   "cell_type": "code",
   "execution_count": 1,
   "id": "7c7dbeb8",
   "metadata": {},
   "outputs": [],
   "source": [
    "#JANNAT BUTT\n",
    "#21I-0259\n",
    "#AI-K\n"
   ]
  },
  {
   "cell_type": "code",
   "execution_count": 243,
   "id": "be1325ac",
   "metadata": {},
   "outputs": [
    {
     "name": "stdout",
     "output_type": "stream",
     "text": [
      "Collecting pytesseractNote: you may need to restart the kernel to use updated packages.\n",
      "\n",
      "  Downloading pytesseract-0.3.10-py3-none-any.whl (14 kB)\n",
      "Requirement already satisfied: Pillow>=8.0.0 in d:\\applications\\anaconda\\lib\\site-packages (from pytesseract) (9.0.1)\n",
      "Requirement already satisfied: packaging>=21.3 in d:\\applications\\anaconda\\lib\\site-packages (from pytesseract) (21.3)\n",
      "Requirement already satisfied: pyparsing!=3.0.5,>=2.0.2 in d:\\applications\\anaconda\\lib\\site-packages (from packaging>=21.3->pytesseract) (3.0.4)\n",
      "Installing collected packages: pytesseract\n",
      "Successfully installed pytesseract-0.3.10\n"
     ]
    }
   ],
   "source": [
    "pip install pytesseract"
   ]
  },
  {
   "cell_type": "code",
   "execution_count": 244,
   "id": "093c9d1f",
   "metadata": {},
   "outputs": [],
   "source": [
    "import pandas as pd\n",
    "import numpy as np\n",
    "import os\n",
    "from sklearn.linear_model import SGDRegressor\n",
    "from sklearn.ensemble import BaseEnsemble\n",
    "import seaborn as sn\n",
    "from os import listdir\n",
    "import cv2\n",
    "from sklearn.neighbors import KNeighborsClassifier\n",
    "from skimage import filters\n",
    "from PIL import Image\n",
    "from sklearn.naive_bayes import MultinomialNB\n",
    "from sklearn.neural_network import MLPClassifier\n",
    "import matplotlib.image as mpimg\n",
    "import matplotlib.pyplot as plt\n",
    "import warnings\n",
    "import nltk\n",
    "from skimage import feature\n",
    "import skimage\n",
    "from nltk.corpus import stopwords\n",
    "import string\n",
    "from PIL import Image\n",
    "from pytesseract import pytesseract\n",
    "from sklearn.svm import LinearSVC\n",
    "from nltk.stem.porter import PorterStemmer\n",
    "from sklearn.feature_extraction.text import CountVectorizer\n",
    "from sklearn.model_selection import train_test_split\n",
    "from sklearn.metrics import confusion_matrix ,accuracy_score,recall_score,f1_score\n",
    "from sklearn.feature_extraction.text import TfidfVectorizer\n",
    "from sklearn.metrics import classification_report\n",
    "from sklearn.linear_model import LogisticRegression\n",
    "from sklearn.preprocessing import StandardScaler\n",
    "from sklearn.metrics import plot_confusion_matrix\n",
    "import re\n",
    "from sklearn.ensemble import AdaBoostClassifier\n",
    "from PIL import Image\n",
    "from PIL import ImageFile\n",
    "import pickle\n",
    "from sklearn.naive_bayes import GaussianNB\n",
    "from skimage.io import imread,imshow\n",
    "from sklearn.ensemble import IsolationForest\n",
    "from sklearn.discriminant_analysis import LinearDiscriminantAnalysis\n",
    "from sklearn.ensemble import BaggingClassifier\n",
    "from sklearn.ensemble import RandomForestClassifier\n",
    "from sklearn.ensemble import ExtraTreesClassifier\n",
    "from sklearn.svm import SVC\n",
    "from sklearn.ensemble import StackingClassifier\n",
    "from sklearn.tree import DecisionTreeClassifier\n",
    "from sklearn.ensemble import HistGradientBoostingClassifier\n",
    "from sklearn import svm,model_selection, tree, linear_model, neighbors, naive_bayes, ensemble, discriminant_analysis, gaussian_process\n",
    "from sklearn import preprocessing \n",
    "from sklearn.linear_model import LinearRegression\n",
    "from sklearn.ensemble import VotingClassifier\n",
    "warnings.filterwarnings('ignore')"
   ]
  },
  {
   "cell_type": "markdown",
   "id": "456110f9",
   "metadata": {},
   "source": [
    "# Loading Excel Data"
   ]
  },
  {
   "cell_type": "code",
   "execution_count": 3,
   "id": "871be0b2",
   "metadata": {},
   "outputs": [
    {
     "data": {
      "text/html": [
       "<div>\n",
       "<style scoped>\n",
       "    .dataframe tbody tr th:only-of-type {\n",
       "        vertical-align: middle;\n",
       "    }\n",
       "\n",
       "    .dataframe tbody tr th {\n",
       "        vertical-align: top;\n",
       "    }\n",
       "\n",
       "    .dataframe thead th {\n",
       "        text-align: right;\n",
       "    }\n",
       "</style>\n",
       "<table border=\"1\" class=\"dataframe\">\n",
       "  <thead>\n",
       "    <tr style=\"text-align: right;\">\n",
       "      <th></th>\n",
       "      <th>image_name</th>\n",
       "      <th>overall_sentiment</th>\n",
       "    </tr>\n",
       "  </thead>\n",
       "  <tbody>\n",
       "    <tr>\n",
       "      <th>0</th>\n",
       "      <td>image_1.jpg</td>\n",
       "      <td>1</td>\n",
       "    </tr>\n",
       "    <tr>\n",
       "      <th>1</th>\n",
       "      <td>image_2.jpeg</td>\n",
       "      <td>1</td>\n",
       "    </tr>\n",
       "    <tr>\n",
       "      <th>2</th>\n",
       "      <td>image_3.JPG</td>\n",
       "      <td>1</td>\n",
       "    </tr>\n",
       "    <tr>\n",
       "      <th>3</th>\n",
       "      <td>image_4.png</td>\n",
       "      <td>1</td>\n",
       "    </tr>\n",
       "    <tr>\n",
       "      <th>4</th>\n",
       "      <td>image_5.png</td>\n",
       "      <td>0</td>\n",
       "    </tr>\n",
       "    <tr>\n",
       "      <th>...</th>\n",
       "      <td>...</td>\n",
       "      <td>...</td>\n",
       "    </tr>\n",
       "    <tr>\n",
       "      <th>6987</th>\n",
       "      <td>image_6988.jpg</td>\n",
       "      <td>0</td>\n",
       "    </tr>\n",
       "    <tr>\n",
       "      <th>6988</th>\n",
       "      <td>image_6989.jpg</td>\n",
       "      <td>0</td>\n",
       "    </tr>\n",
       "    <tr>\n",
       "      <th>6989</th>\n",
       "      <td>image_6990.png</td>\n",
       "      <td>1</td>\n",
       "    </tr>\n",
       "    <tr>\n",
       "      <th>6990</th>\n",
       "      <td>image_6991.jpg</td>\n",
       "      <td>1</td>\n",
       "    </tr>\n",
       "    <tr>\n",
       "      <th>6991</th>\n",
       "      <td>image_6992.jpg</td>\n",
       "      <td>1</td>\n",
       "    </tr>\n",
       "  </tbody>\n",
       "</table>\n",
       "<p>6992 rows × 2 columns</p>\n",
       "</div>"
      ],
      "text/plain": [
       "          image_name overall_sentiment\n",
       "0        image_1.jpg                 1\n",
       "1       image_2.jpeg                 1\n",
       "2        image_3.JPG                 1\n",
       "3        image_4.png                 1\n",
       "4        image_5.png                 0\n",
       "...              ...               ...\n",
       "6987  image_6988.jpg                 0\n",
       "6988  image_6989.jpg                 0\n",
       "6989  image_6990.png                 1\n",
       "6990  image_6991.jpg                 1\n",
       "6991  image_6992.jpg                 1\n",
       "\n",
       "[6992 rows x 2 columns]"
      ]
     },
     "execution_count": 3,
     "metadata": {},
     "output_type": "execute_result"
    }
   ],
   "source": [
    "orig_data=pd.read_csv(\"labels.csv\",usecols=[\"image_name\",\"overall_sentiment\"])\n",
    "orig_data.overall_sentiment[orig_data.overall_sentiment==\"very_positive\"]=1\n",
    "orig_data.overall_sentiment[orig_data.overall_sentiment==\"positive\"]=1\n",
    "orig_data.overall_sentiment[orig_data.overall_sentiment==\"negative\"]=-1\n",
    "orig_data.overall_sentiment[orig_data.overall_sentiment==\"very_negative\"]=-1\n",
    "orig_data.overall_sentiment[orig_data.overall_sentiment==\"neutral\"]=0\n",
    "orig_data"
   ]
  },
  {
   "cell_type": "markdown",
   "id": "8b7a4ce5",
   "metadata": {},
   "source": [
    "# Loading Images using imread"
   ]
  },
  {
   "cell_type": "code",
   "execution_count": null,
   "id": "408caa56",
   "metadata": {},
   "outputs": [],
   "source": [
    "image_Matrix=[]\n",
    "image_names=[]\n",
    "image_labels=[]\n",
    "image_count=0\n",
    "image_path =r\"C:\\Users\\jannat butt\\OneDrive\\Desktop\\PAI THEORY\\images\\\\\"\n",
    "for index in range(len(orig_data)):\n",
    "    try:\n",
    "        image =imread(image_path+\"\\\\\"+orig_data.iloc[index][\"image_name\"],as_gray=True)\n",
    "        image=skimage.transform.resize(image,(130,130))\n",
    "        image_Matrix.append(image)\n",
    "        image_names.append(orig_data.iloc[index][\"image_name\"])\n",
    "        image_labels.append(orig_data.iloc[index][\"overall_sentiment\"])\n",
    "        print(image_count)\n",
    "        image_count+=1\n",
    "    except:\n",
    "        print(\"img error\")"
   ]
  },
  {
   "cell_type": "code",
   "execution_count": 5,
   "id": "943aee91",
   "metadata": {},
   "outputs": [
    {
     "name": "stdout",
     "output_type": "stream",
     "text": [
      "2\n"
     ]
    }
   ],
   "source": [
    "print(image_Matrix[0].ndim)"
   ]
  },
  {
   "cell_type": "markdown",
   "id": "5c6b4657",
   "metadata": {},
   "source": [
    "# Flatten array using Ravel"
   ]
  },
  {
   "cell_type": "code",
   "execution_count": null,
   "id": "851a076a",
   "metadata": {},
   "outputs": [],
   "source": [
    "oneD_images_Matrix=image_Matrix.copy()\n",
    "for index in range(len(image_Matrix)):\n",
    "        oneD_images_Matrix[index]=oneD_images_Matrix[index].ravel()\n",
    "oneD_images_Matrix"
   ]
  },
  {
   "cell_type": "markdown",
   "id": "078dc491",
   "metadata": {},
   "source": [
    "# Data Frame "
   ]
  },
  {
   "cell_type": "code",
   "execution_count": 7,
   "id": "4bb4010e",
   "metadata": {},
   "outputs": [
    {
     "data": {
      "text/html": [
       "<div>\n",
       "<style scoped>\n",
       "    .dataframe tbody tr th:only-of-type {\n",
       "        vertical-align: middle;\n",
       "    }\n",
       "\n",
       "    .dataframe tbody tr th {\n",
       "        vertical-align: top;\n",
       "    }\n",
       "\n",
       "    .dataframe thead th {\n",
       "        text-align: right;\n",
       "    }\n",
       "</style>\n",
       "<table border=\"1\" class=\"dataframe\">\n",
       "  <thead>\n",
       "    <tr style=\"text-align: right;\">\n",
       "      <th></th>\n",
       "      <th>im_ReadFeatures</th>\n",
       "      <th>image_Name</th>\n",
       "      <th>Labels</th>\n",
       "    </tr>\n",
       "  </thead>\n",
       "  <tbody>\n",
       "    <tr>\n",
       "      <th>0</th>\n",
       "      <td>[0.4126143410768218, 0.41253159467404676, 0.41...</td>\n",
       "      <td>image_1.jpg</td>\n",
       "      <td>1</td>\n",
       "    </tr>\n",
       "    <tr>\n",
       "      <th>1</th>\n",
       "      <td>[1.0, 1.0, 1.0, 1.0, 1.0, 0.999997523793219, 0...</td>\n",
       "      <td>image_2.jpeg</td>\n",
       "      <td>1</td>\n",
       "    </tr>\n",
       "    <tr>\n",
       "      <th>2</th>\n",
       "      <td>[0.1704527567933269, 0.13400727225304232, 0.16...</td>\n",
       "      <td>image_3.JPG</td>\n",
       "      <td>1</td>\n",
       "    </tr>\n",
       "    <tr>\n",
       "      <th>3</th>\n",
       "      <td>[0.42737853001873793, 0.4240776419554474, 0.42...</td>\n",
       "      <td>image_4.png</td>\n",
       "      <td>1</td>\n",
       "    </tr>\n",
       "    <tr>\n",
       "      <th>4</th>\n",
       "      <td>[0.9842700484043511, 0.9848068260710845, 0.983...</td>\n",
       "      <td>image_5.png</td>\n",
       "      <td>0</td>\n",
       "    </tr>\n",
       "    <tr>\n",
       "      <th>...</th>\n",
       "      <td>...</td>\n",
       "      <td>...</td>\n",
       "      <td>...</td>\n",
       "    </tr>\n",
       "    <tr>\n",
       "      <th>6986</th>\n",
       "      <td>[1.0, 1.0, 1.0, 1.0, 1.0, 1.0, 1.0, 1.0, 1.0, ...</td>\n",
       "      <td>image_6988.jpg</td>\n",
       "      <td>0</td>\n",
       "    </tr>\n",
       "    <tr>\n",
       "      <th>6987</th>\n",
       "      <td>[0.0, 0.0, 0.0, 0.0, 0.0, 0.0, 0.0, 0.0, 0.0, ...</td>\n",
       "      <td>image_6989.jpg</td>\n",
       "      <td>0</td>\n",
       "    </tr>\n",
       "    <tr>\n",
       "      <th>6988</th>\n",
       "      <td>[0.6761764305261445, 0.6759322400520339, 0.675...</td>\n",
       "      <td>image_6990.png</td>\n",
       "      <td>1</td>\n",
       "    </tr>\n",
       "    <tr>\n",
       "      <th>6989</th>\n",
       "      <td>[0.5686293691409842, 0.5873897141976353, 0.597...</td>\n",
       "      <td>image_6991.jpg</td>\n",
       "      <td>1</td>\n",
       "    </tr>\n",
       "    <tr>\n",
       "      <th>6990</th>\n",
       "      <td>[0.6698950859402478, 0.6677811686258598, 0.667...</td>\n",
       "      <td>image_6992.jpg</td>\n",
       "      <td>1</td>\n",
       "    </tr>\n",
       "  </tbody>\n",
       "</table>\n",
       "<p>6991 rows × 3 columns</p>\n",
       "</div>"
      ],
      "text/plain": [
       "                                        im_ReadFeatures      image_Name  \\\n",
       "0     [0.4126143410768218, 0.41253159467404676, 0.41...     image_1.jpg   \n",
       "1     [1.0, 1.0, 1.0, 1.0, 1.0, 0.999997523793219, 0...    image_2.jpeg   \n",
       "2     [0.1704527567933269, 0.13400727225304232, 0.16...     image_3.JPG   \n",
       "3     [0.42737853001873793, 0.4240776419554474, 0.42...     image_4.png   \n",
       "4     [0.9842700484043511, 0.9848068260710845, 0.983...     image_5.png   \n",
       "...                                                 ...             ...   \n",
       "6986  [1.0, 1.0, 1.0, 1.0, 1.0, 1.0, 1.0, 1.0, 1.0, ...  image_6988.jpg   \n",
       "6987  [0.0, 0.0, 0.0, 0.0, 0.0, 0.0, 0.0, 0.0, 0.0, ...  image_6989.jpg   \n",
       "6988  [0.6761764305261445, 0.6759322400520339, 0.675...  image_6990.png   \n",
       "6989  [0.5686293691409842, 0.5873897141976353, 0.597...  image_6991.jpg   \n",
       "6990  [0.6698950859402478, 0.6677811686258598, 0.667...  image_6992.jpg   \n",
       "\n",
       "      Labels  \n",
       "0          1  \n",
       "1          1  \n",
       "2          1  \n",
       "3          1  \n",
       "4          0  \n",
       "...      ...  \n",
       "6986       0  \n",
       "6987       0  \n",
       "6988       1  \n",
       "6989       1  \n",
       "6990       1  \n",
       "\n",
       "[6991 rows x 3 columns]"
      ]
     },
     "execution_count": 7,
     "metadata": {},
     "output_type": "execute_result"
    }
   ],
   "source": [
    "images_features=pd.DataFrame(list(zip(oneD_images_Matrix,image_names,image_labels)),columns=[\"im_ReadFeatures\",\"image_Name\",\"Labels\"])\n",
    "images_features"
   ]
  },
  {
   "cell_type": "markdown",
   "id": "0e870cbc",
   "metadata": {},
   "source": [
    "# Writing Images Features Data to file"
   ]
  },
  {
   "cell_type": "code",
   "execution_count": 8,
   "id": "7077b8d2",
   "metadata": {},
   "outputs": [],
   "source": [
    "images_feature=images_features.to_csv(\"features_images.csv\",index=False)"
   ]
  },
  {
   "cell_type": "code",
   "execution_count": 9,
   "id": "652b1a19",
   "metadata": {},
   "outputs": [
    {
     "data": {
      "text/html": [
       "<div>\n",
       "<style scoped>\n",
       "    .dataframe tbody tr th:only-of-type {\n",
       "        vertical-align: middle;\n",
       "    }\n",
       "\n",
       "    .dataframe tbody tr th {\n",
       "        vertical-align: top;\n",
       "    }\n",
       "\n",
       "    .dataframe thead th {\n",
       "        text-align: right;\n",
       "    }\n",
       "</style>\n",
       "<table border=\"1\" class=\"dataframe\">\n",
       "  <thead>\n",
       "    <tr style=\"text-align: right;\">\n",
       "      <th></th>\n",
       "      <th>im_ReadFeatures</th>\n",
       "      <th>image_Name</th>\n",
       "      <th>Labels</th>\n",
       "    </tr>\n",
       "  </thead>\n",
       "  <tbody>\n",
       "    <tr>\n",
       "      <th>0</th>\n",
       "      <td>[0.41261434 0.41253159 0.41244625 ... 0.342019...</td>\n",
       "      <td>image_1.jpg</td>\n",
       "      <td>1</td>\n",
       "    </tr>\n",
       "    <tr>\n",
       "      <th>1</th>\n",
       "      <td>[1.         1.         1.         ... 0.999999...</td>\n",
       "      <td>image_2.jpeg</td>\n",
       "      <td>1</td>\n",
       "    </tr>\n",
       "    <tr>\n",
       "      <th>2</th>\n",
       "      <td>[0.17045276 0.13400727 0.16697388 ... 0.498039...</td>\n",
       "      <td>image_3.JPG</td>\n",
       "      <td>1</td>\n",
       "    </tr>\n",
       "    <tr>\n",
       "      <th>3</th>\n",
       "      <td>[0.42737853 0.42407764 0.42946246 ... 1.      ...</td>\n",
       "      <td>image_4.png</td>\n",
       "      <td>1</td>\n",
       "    </tr>\n",
       "    <tr>\n",
       "      <th>4</th>\n",
       "      <td>[0.98427005 0.98480683 0.98355231 ... 1.      ...</td>\n",
       "      <td>image_5.png</td>\n",
       "      <td>0</td>\n",
       "    </tr>\n",
       "    <tr>\n",
       "      <th>...</th>\n",
       "      <td>...</td>\n",
       "      <td>...</td>\n",
       "      <td>...</td>\n",
       "    </tr>\n",
       "    <tr>\n",
       "      <th>6986</th>\n",
       "      <td>[1. 1. 1. ... 1. 1. 1.]</td>\n",
       "      <td>image_6988.jpg</td>\n",
       "      <td>0</td>\n",
       "    </tr>\n",
       "    <tr>\n",
       "      <th>6987</th>\n",
       "      <td>[0. 0. 0. ... 0. 0. 0.]</td>\n",
       "      <td>image_6989.jpg</td>\n",
       "      <td>0</td>\n",
       "    </tr>\n",
       "    <tr>\n",
       "      <th>6988</th>\n",
       "      <td>[0.67617643 0.67593224 0.67572338 ... 1.      ...</td>\n",
       "      <td>image_6990.png</td>\n",
       "      <td>1</td>\n",
       "    </tr>\n",
       "    <tr>\n",
       "      <th>6989</th>\n",
       "      <td>[0.56862937 0.58738971 0.59778571 ... 0.656045...</td>\n",
       "      <td>image_6991.jpg</td>\n",
       "      <td>1</td>\n",
       "    </tr>\n",
       "    <tr>\n",
       "      <th>6990</th>\n",
       "      <td>[0.66989509 0.66778117 0.66717128 ... 0.562248...</td>\n",
       "      <td>image_6992.jpg</td>\n",
       "      <td>1</td>\n",
       "    </tr>\n",
       "  </tbody>\n",
       "</table>\n",
       "<p>6991 rows × 3 columns</p>\n",
       "</div>"
      ],
      "text/plain": [
       "                                        im_ReadFeatures      image_Name  \\\n",
       "0     [0.41261434 0.41253159 0.41244625 ... 0.342019...     image_1.jpg   \n",
       "1     [1.         1.         1.         ... 0.999999...    image_2.jpeg   \n",
       "2     [0.17045276 0.13400727 0.16697388 ... 0.498039...     image_3.JPG   \n",
       "3     [0.42737853 0.42407764 0.42946246 ... 1.      ...     image_4.png   \n",
       "4     [0.98427005 0.98480683 0.98355231 ... 1.      ...     image_5.png   \n",
       "...                                                 ...             ...   \n",
       "6986                            [1. 1. 1. ... 1. 1. 1.]  image_6988.jpg   \n",
       "6987                            [0. 0. 0. ... 0. 0. 0.]  image_6989.jpg   \n",
       "6988  [0.67617643 0.67593224 0.67572338 ... 1.      ...  image_6990.png   \n",
       "6989  [0.56862937 0.58738971 0.59778571 ... 0.656045...  image_6991.jpg   \n",
       "6990  [0.66989509 0.66778117 0.66717128 ... 0.562248...  image_6992.jpg   \n",
       "\n",
       "      Labels  \n",
       "0          1  \n",
       "1          1  \n",
       "2          1  \n",
       "3          1  \n",
       "4          0  \n",
       "...      ...  \n",
       "6986       0  \n",
       "6987       0  \n",
       "6988       1  \n",
       "6989       1  \n",
       "6990       1  \n",
       "\n",
       "[6991 rows x 3 columns]"
      ]
     },
     "execution_count": 9,
     "metadata": {},
     "output_type": "execute_result"
    }
   ],
   "source": [
    "images_feature=pd.read_csv(\"features_images.csv\")\n",
    "images_feature"
   ]
  },
  {
   "cell_type": "markdown",
   "id": "6d95ffc2",
   "metadata": {},
   "source": [
    "# Applying Canny ,Sobel Filter"
   ]
  },
  {
   "cell_type": "code",
   "execution_count": null,
   "id": "689600f5",
   "metadata": {},
   "outputs": [],
   "source": [
    "canny_features=[]\n",
    "for index in range(len(image_Matrix)):\n",
    "    cany = feature.canny(image_Matrix[index])\n",
    "    canny_features.append(cany)\n",
    "canny_features\n",
    "sobel_features=[]\n",
    "for index in range(len(image_Matrix)):\n",
    "    sobel=filters.sobel(image_Matrix[index])\n",
    "    sobel_features.append(sobel)\n",
    "sobel_features"
   ]
  },
  {
   "cell_type": "markdown",
   "id": "e15f0f94",
   "metadata": {},
   "source": [
    "# Flatten Cany  Sobel features"
   ]
  },
  {
   "cell_type": "code",
   "execution_count": null,
   "id": "184520f9",
   "metadata": {
    "scrolled": true
   },
   "outputs": [],
   "source": [
    "oneD_canny=canny_features.copy()\n",
    "for index in range(len(canny_features)):\n",
    "        oneD_canny[index]=oneD_canny[index].ravel()\n",
    "oneD_canny\n",
    "\n",
    "oneD_sobel=sobel_features.copy()\n",
    "for index in range(len(sobel_features)):\n",
    "        oneD_sobel[index]=oneD_sobel[index].ravel()\n",
    "oneD_sobel"
   ]
  },
  {
   "cell_type": "code",
   "execution_count": 12,
   "id": "37bea126",
   "metadata": {},
   "outputs": [
    {
     "data": {
      "text/html": [
       "<div>\n",
       "<style scoped>\n",
       "    .dataframe tbody tr th:only-of-type {\n",
       "        vertical-align: middle;\n",
       "    }\n",
       "\n",
       "    .dataframe tbody tr th {\n",
       "        vertical-align: top;\n",
       "    }\n",
       "\n",
       "    .dataframe thead th {\n",
       "        text-align: right;\n",
       "    }\n",
       "</style>\n",
       "<table border=\"1\" class=\"dataframe\">\n",
       "  <thead>\n",
       "    <tr style=\"text-align: right;\">\n",
       "      <th></th>\n",
       "      <th>im_ReadFeatures</th>\n",
       "      <th>image_Name</th>\n",
       "      <th>Labels</th>\n",
       "      <th>Cany Features</th>\n",
       "      <th>Sobel Features</th>\n",
       "    </tr>\n",
       "  </thead>\n",
       "  <tbody>\n",
       "    <tr>\n",
       "      <th>0</th>\n",
       "      <td>[0.41261434 0.41253159 0.41244625 ... 0.342019...</td>\n",
       "      <td>image_1.jpg</td>\n",
       "      <td>1</td>\n",
       "      <td>[False, False, False, False, False, False, Fal...</td>\n",
       "      <td>[0.0002531137519810675, 0.0005312801170071238,...</td>\n",
       "    </tr>\n",
       "    <tr>\n",
       "      <th>1</th>\n",
       "      <td>[1.         1.         1.         ... 0.999999...</td>\n",
       "      <td>image_2.jpeg</td>\n",
       "      <td>1</td>\n",
       "      <td>[False, False, False, False, False, False, Fal...</td>\n",
       "      <td>[0.0, 0.0, 0.0, 0.0, 1.7887372623913358e-06, 0...</td>\n",
       "    </tr>\n",
       "    <tr>\n",
       "      <th>2</th>\n",
       "      <td>[0.17045276 0.13400727 0.16697388 ... 0.498039...</td>\n",
       "      <td>image_3.JPG</td>\n",
       "      <td>1</td>\n",
       "      <td>[False, False, False, False, False, False, Fal...</td>\n",
       "      <td>[0.02569923893212562, 0.002075157445063326, 0....</td>\n",
       "    </tr>\n",
       "    <tr>\n",
       "      <th>3</th>\n",
       "      <td>[0.42737853 0.42407764 0.42946246 ... 1.      ...</td>\n",
       "      <td>image_4.png</td>\n",
       "      <td>1</td>\n",
       "      <td>[False, False, False, False, False, False, Fal...</td>\n",
       "      <td>[0.003989978780297666, 0.0035649669555833227, ...</td>\n",
       "    </tr>\n",
       "    <tr>\n",
       "      <th>4</th>\n",
       "      <td>[0.98427005 0.98480683 0.98355231 ... 1.      ...</td>\n",
       "      <td>image_5.png</td>\n",
       "      <td>0</td>\n",
       "      <td>[False, False, False, False, False, False, Fal...</td>\n",
       "      <td>[0.10410230026075094, 0.1038855844306842, 0.10...</td>\n",
       "    </tr>\n",
       "    <tr>\n",
       "      <th>...</th>\n",
       "      <td>...</td>\n",
       "      <td>...</td>\n",
       "      <td>...</td>\n",
       "      <td>...</td>\n",
       "      <td>...</td>\n",
       "    </tr>\n",
       "    <tr>\n",
       "      <th>6986</th>\n",
       "      <td>[1. 1. 1. ... 1. 1. 1.]</td>\n",
       "      <td>image_6988.jpg</td>\n",
       "      <td>0</td>\n",
       "      <td>[False, False, False, False, False, False, Fal...</td>\n",
       "      <td>[0.0, 0.0, 0.0, 0.0, 0.0, 0.0, 2.7755575615628...</td>\n",
       "    </tr>\n",
       "    <tr>\n",
       "      <th>6987</th>\n",
       "      <td>[0. 0. 0. ... 0. 0. 0.]</td>\n",
       "      <td>image_6989.jpg</td>\n",
       "      <td>0</td>\n",
       "      <td>[False, False, False, False, False, False, Fal...</td>\n",
       "      <td>[0.0, 0.0, 0.0, 0.0, 0.0, 0.0, 0.0, 0.0, 0.0, ...</td>\n",
       "    </tr>\n",
       "    <tr>\n",
       "      <th>6988</th>\n",
       "      <td>[0.67617643 0.67593224 0.67572338 ... 1.      ...</td>\n",
       "      <td>image_6990.png</td>\n",
       "      <td>1</td>\n",
       "      <td>[False, False, False, False, False, False, Fal...</td>\n",
       "      <td>[0.004319784289716906, 0.0028221702385082333, ...</td>\n",
       "    </tr>\n",
       "    <tr>\n",
       "      <th>6989</th>\n",
       "      <td>[0.56862937 0.58738971 0.59778571 ... 0.656045...</td>\n",
       "      <td>image_6991.jpg</td>\n",
       "      <td>1</td>\n",
       "      <td>[False, False, False, False, False, False, Fal...</td>\n",
       "      <td>[0.013516037021624428, 0.019973625009540256, 0...</td>\n",
       "    </tr>\n",
       "    <tr>\n",
       "      <th>6990</th>\n",
       "      <td>[0.66989509 0.66778117 0.66717128 ... 0.562248...</td>\n",
       "      <td>image_6992.jpg</td>\n",
       "      <td>1</td>\n",
       "      <td>[False, False, False, False, False, False, Fal...</td>\n",
       "      <td>[0.003620389294601023, 0.005005997950324788, 0...</td>\n",
       "    </tr>\n",
       "  </tbody>\n",
       "</table>\n",
       "<p>6991 rows × 5 columns</p>\n",
       "</div>"
      ],
      "text/plain": [
       "                                        im_ReadFeatures      image_Name  \\\n",
       "0     [0.41261434 0.41253159 0.41244625 ... 0.342019...     image_1.jpg   \n",
       "1     [1.         1.         1.         ... 0.999999...    image_2.jpeg   \n",
       "2     [0.17045276 0.13400727 0.16697388 ... 0.498039...     image_3.JPG   \n",
       "3     [0.42737853 0.42407764 0.42946246 ... 1.      ...     image_4.png   \n",
       "4     [0.98427005 0.98480683 0.98355231 ... 1.      ...     image_5.png   \n",
       "...                                                 ...             ...   \n",
       "6986                            [1. 1. 1. ... 1. 1. 1.]  image_6988.jpg   \n",
       "6987                            [0. 0. 0. ... 0. 0. 0.]  image_6989.jpg   \n",
       "6988  [0.67617643 0.67593224 0.67572338 ... 1.      ...  image_6990.png   \n",
       "6989  [0.56862937 0.58738971 0.59778571 ... 0.656045...  image_6991.jpg   \n",
       "6990  [0.66989509 0.66778117 0.66717128 ... 0.562248...  image_6992.jpg   \n",
       "\n",
       "      Labels                                      Cany Features  \\\n",
       "0          1  [False, False, False, False, False, False, Fal...   \n",
       "1          1  [False, False, False, False, False, False, Fal...   \n",
       "2          1  [False, False, False, False, False, False, Fal...   \n",
       "3          1  [False, False, False, False, False, False, Fal...   \n",
       "4          0  [False, False, False, False, False, False, Fal...   \n",
       "...      ...                                                ...   \n",
       "6986       0  [False, False, False, False, False, False, Fal...   \n",
       "6987       0  [False, False, False, False, False, False, Fal...   \n",
       "6988       1  [False, False, False, False, False, False, Fal...   \n",
       "6989       1  [False, False, False, False, False, False, Fal...   \n",
       "6990       1  [False, False, False, False, False, False, Fal...   \n",
       "\n",
       "                                         Sobel Features  \n",
       "0     [0.0002531137519810675, 0.0005312801170071238,...  \n",
       "1     [0.0, 0.0, 0.0, 0.0, 1.7887372623913358e-06, 0...  \n",
       "2     [0.02569923893212562, 0.002075157445063326, 0....  \n",
       "3     [0.003989978780297666, 0.0035649669555833227, ...  \n",
       "4     [0.10410230026075094, 0.1038855844306842, 0.10...  \n",
       "...                                                 ...  \n",
       "6986  [0.0, 0.0, 0.0, 0.0, 0.0, 0.0, 2.7755575615628...  \n",
       "6987  [0.0, 0.0, 0.0, 0.0, 0.0, 0.0, 0.0, 0.0, 0.0, ...  \n",
       "6988  [0.004319784289716906, 0.0028221702385082333, ...  \n",
       "6989  [0.013516037021624428, 0.019973625009540256, 0...  \n",
       "6990  [0.003620389294601023, 0.005005997950324788, 0...  \n",
       "\n",
       "[6991 rows x 5 columns]"
      ]
     },
     "execution_count": 12,
     "metadata": {},
     "output_type": "execute_result"
    }
   ],
   "source": [
    "images_feature[\"Cany Features\"]=oneD_canny\n",
    "images_feature[\"Sobel Features\"]=oneD_sobel\n",
    "images_feature"
   ]
  },
  {
   "cell_type": "markdown",
   "id": "ac80b2ee",
   "metadata": {},
   "source": [
    "# Making sobel and canny as single values"
   ]
  },
  {
   "cell_type": "code",
   "execution_count": 13,
   "id": "910e94a1",
   "metadata": {},
   "outputs": [],
   "source": [
    "canny_featSplit=images_feature[\"Cany Features\"].apply(pd.Series)\n",
    "sobel_featSplit=images_feature[\"Sobel Features\"].apply(pd.Series)"
   ]
  },
  {
   "cell_type": "code",
   "execution_count": null,
   "id": "0bdf75b2",
   "metadata": {},
   "outputs": [],
   "source": [
    "sobel_featSplit"
   ]
  },
  {
   "cell_type": "markdown",
   "id": "6d9ef603",
   "metadata": {},
   "source": [
    "# Writing sobel cany to files"
   ]
  },
  {
   "cell_type": "code",
   "execution_count": 32,
   "id": "4a4a213c",
   "metadata": {},
   "outputs": [],
   "source": [
    "sobel_featSplit=sobel_featSplit.to_csv(\"sobel_featSpli.csv\",index=False)\n",
    "sobel_featSplit\n",
    "\n",
    "canny_featSplit=canny_featSplit.to_csv(\"canny_featSplit.csv\",index=False)\n",
    "canny_featSplit"
   ]
  },
  {
   "cell_type": "markdown",
   "id": "0649a09a",
   "metadata": {},
   "source": [
    "# Reading Features "
   ]
  },
  {
   "cell_type": "code",
   "execution_count": null,
   "id": "87713617",
   "metadata": {},
   "outputs": [],
   "source": [
    "sobel_featSplit=pd.read_csv(\"sobel_featSpli.csv\")\n",
    "sobel_featSplit"
   ]
  },
  {
   "cell_type": "code",
   "execution_count": null,
   "id": "8138602e",
   "metadata": {},
   "outputs": [],
   "source": [
    "canny_featSplit=pd.read_csv(\"canny_featSplit.csv\")\n",
    "canny_featSplit"
   ]
  },
  {
   "cell_type": "markdown",
   "id": "38ee63be",
   "metadata": {},
   "source": [
    "# test train split Canny"
   ]
  },
  {
   "cell_type": "code",
   "execution_count": 239,
   "id": "d27860df",
   "metadata": {},
   "outputs": [
    {
     "name": "stdout",
     "output_type": "stream",
     "text": [
      "Shape of X_train: (5592, 16900)\n",
      "Shape of X_test: (1399, 16900)\n",
      "Shape of y_train: (5592,)\n",
      "Shape of y_test: (1399,)\n"
     ]
    }
   ],
   "source": [
    "X=canny_featSplit\n",
    "y=images_feature[\"Labels\"].astype(\"int\")\n",
    "\n",
    "X_train,X_test,y_train,y_test=train_test_split(X,y,test_size=0.20,random_state=50)\n",
    "\n",
    "\n",
    "print('Shape of X_train:', X_train.shape)\n",
    "print(\"Shape of X_test:\", X_test.shape)\n",
    "print(\"Shape of y_train:\", y_train.shape)\n",
    "print(\"Shape of y_test:\", y_test.shape)\n",
    "#target\n",
    "target=[\"Positive\",\"Negative\",\"Neutral\"]"
   ]
  },
  {
   "cell_type": "markdown",
   "id": "d69970a6",
   "metadata": {},
   "source": [
    "# MultiNomial Model"
   ]
  },
  {
   "cell_type": "code",
   "execution_count": 15,
   "id": "f89965aa",
   "metadata": {},
   "outputs": [
    {
     "data": {
      "text/plain": [
       "MultinomialNB()"
      ]
     },
     "execution_count": 15,
     "metadata": {},
     "output_type": "execute_result"
    }
   ],
   "source": [
    "multi_model=MultinomialNB()\n",
    "multi_model=multi_model.fit(X_train,y_train)\n",
    "multi_model"
   ]
  },
  {
   "cell_type": "code",
   "execution_count": 16,
   "id": "289db3a1",
   "metadata": {},
   "outputs": [
    {
     "data": {
      "text/plain": [
       "array([ 1,  1, -1, ...,  0,  1, -1])"
      ]
     },
     "execution_count": 16,
     "metadata": {},
     "output_type": "execute_result"
    }
   ],
   "source": [
    "multi_model_y_pred=multi_model.predict(X_test)\n",
    "multi_model_y_pred"
   ]
  },
  {
   "cell_type": "code",
   "execution_count": 17,
   "id": "5b8878d0",
   "metadata": {},
   "outputs": [
    {
     "name": "stdout",
     "output_type": "stream",
     "text": [
      "[[ 22  44  59]\n",
      " [ 36 164 229]\n",
      " [ 93 301 451]]\n",
      "              precision    recall  f1-score   support\n",
      "\n",
      "    Positive       0.15      0.18      0.16       125\n",
      "    Negative       0.32      0.38      0.35       429\n",
      "     Neutral       0.61      0.53      0.57       845\n",
      "\n",
      "    accuracy                           0.46      1399\n",
      "   macro avg       0.36      0.36      0.36      1399\n",
      "weighted avg       0.48      0.46      0.47      1399\n",
      "\n",
      "F1_Score: 0.3595149682917366\n",
      "Accuracy: 0.455325232308792\n"
     ]
    },
    {
     "data": {
      "text/plain": [
       "<Figure size 720x504 with 0 Axes>"
      ]
     },
     "execution_count": 17,
     "metadata": {},
     "output_type": "execute_result"
    },
    {
     "data": {
      "image/png": "[encoded data removed]",
      "text/plain": [
       "<Figure size 432x288 with 2 Axes>"
      ]
     },
     "metadata": {
      "needs_background": "light"
     },
     "output_type": "display_data"
    },
    {
     "data": {
      "text/plain": [
       "<Figure size 720x504 with 0 Axes>"
      ]
     },
     "metadata": {},
     "output_type": "display_data"
    }
   ],
   "source": [
    "confus_m = pd.DataFrame(confusion_matrix (y_test,multi_model_y_pred), index = [index_val for index_val in target],\n",
    "              columns = [index_val for index_val in target])\n",
    "\n",
    "sn.heatmap(confus_m, annot=True,cmap= \"Greens_r\")\n",
    "print(confusion_matrix (y_test,multi_model_y_pred))\n",
    "print(classification_report(y_test,multi_model_y_pred,target_names=target))\n",
    "print(\"F1_Score:\",f1_score(y_test,multi_model_y_pred,average=\"macro\"))\n",
    "print(\"Accuracy:\",accuracy_score(y_test,multi_model_y_pred))\n",
    "\n",
    "plt.ylabel(\"Origional\",fontsize=20)\n",
    "plt.xlabel(\"Predicted\",fontsize=20)\n",
    "plt.figure(figsize = (10,7))"
   ]
  },
  {
   "cell_type": "markdown",
   "id": "78122cf4",
   "metadata": {},
   "source": [
    "# LinearDiscriminantAnalysis with Canny"
   ]
  },
  {
   "cell_type": "code",
   "execution_count": 18,
   "id": "4df636b0",
   "metadata": {},
   "outputs": [
    {
     "data": {
      "text/plain": [
       "LinearDiscriminantAnalysis()"
      ]
     },
     "execution_count": 18,
     "metadata": {},
     "output_type": "execute_result"
    }
   ],
   "source": [
    "lda=LinearDiscriminantAnalysis()\n",
    "lda=lda.fit(X_train,y_train)\n",
    "lda"
   ]
  },
  {
   "cell_type": "code",
   "execution_count": null,
   "id": "cba84414",
   "metadata": {},
   "outputs": [],
   "source": [
    "lda_y_pred=lda.predict(X_test)\n",
    "lda_y_pred"
   ]
  },
  {
   "cell_type": "code",
   "execution_count": 20,
   "id": "a7d2655b",
   "metadata": {},
   "outputs": [
    {
     "name": "stdout",
     "output_type": "stream",
     "text": [
      "[[  7  36  82]\n",
      " [ 22 167 240]\n",
      " [ 51 284 510]]\n",
      "              precision    recall  f1-score   support\n",
      "\n",
      "    Positive       0.09      0.06      0.07       125\n",
      "    Negative       0.34      0.39      0.36       429\n",
      "     Neutral       0.61      0.60      0.61       845\n",
      "\n",
      "    accuracy                           0.49      1399\n",
      "   macro avg       0.35      0.35      0.35      1399\n",
      "weighted avg       0.48      0.49      0.49      1399\n",
      "\n",
      "F1_Score: 0.3470501614031772\n",
      "Accuracy: 0.4889206576125804\n"
     ]
    },
    {
     "data": {
      "text/plain": [
       "<Figure size 720x504 with 0 Axes>"
      ]
     },
     "execution_count": 20,
     "metadata": {},
     "output_type": "execute_result"
    },
    {
     "data": {
      "image/png": "[encoded data removed]",
      "text/plain": [
       "<Figure size 432x288 with 2 Axes>"
      ]
     },
     "metadata": {
      "needs_background": "light"
     },
     "output_type": "display_data"
    },
    {
     "data": {
      "text/plain": [
       "<Figure size 720x504 with 0 Axes>"
      ]
     },
     "metadata": {},
     "output_type": "display_data"
    }
   ],
   "source": [
    "confus_m = pd.DataFrame(confusion_matrix (y_test,lda_y_pred), index = [index_val for index_val in target],\n",
    "              columns = [index_val for index_val in target])\n",
    "\n",
    "sn.heatmap(confus_m, annot=True,cmap=plt.cm.Blues)\n",
    "print(confusion_matrix (y_test,lda_y_pred))\n",
    "print(classification_report(y_test,lda_y_pred,target_names=target))\n",
    "print(\"F1_Score:\",f1_score(y_test,lda_y_pred,average=\"macro\"))\n",
    "print(\"Accuracy:\",accuracy_score(y_test,lda_y_pred))\n",
    "\n",
    "plt.ylabel(\"Origional\",fontsize=20)\n",
    "plt.xlabel(\"Predicted\",fontsize=20)\n",
    "plt.figure(figsize = (10,7))"
   ]
  },
  {
   "cell_type": "markdown",
   "id": "cdd6e7f2",
   "metadata": {},
   "source": [
    "# DecisionTreeClassifier Model"
   ]
  },
  {
   "cell_type": "raw",
   "id": "78644eff",
   "metadata": {},
   "source": []
  },
  {
   "cell_type": "code",
   "execution_count": 45,
   "id": "a9eb7097",
   "metadata": {},
   "outputs": [
    {
     "data": {
      "text/plain": [
       "DecisionTreeClassifier()"
      ]
     },
     "execution_count": 45,
     "metadata": {},
     "output_type": "execute_result"
    }
   ],
   "source": [
    "st=DecisionTreeClassifier()\n",
    "st=st.fit(X_train,y_train)\n",
    "st"
   ]
  },
  {
   "cell_type": "code",
   "execution_count": null,
   "id": "aea9a1e2",
   "metadata": {},
   "outputs": [],
   "source": [
    "st_y_pred=st.predict(X_test)\n",
    "st_y_pred\n"
   ]
  },
  {
   "cell_type": "code",
   "execution_count": 47,
   "id": "c4736f51",
   "metadata": {},
   "outputs": [
    {
     "name": "stdout",
     "output_type": "stream",
     "text": [
      "[[ 17  33  75]\n",
      " [ 47 146 236]\n",
      " [102 278 465]]\n",
      "              precision    recall  f1-score   support\n",
      "\n",
      "    Positive       0.10      0.14      0.12       125\n",
      "    Negative       0.32      0.34      0.33       429\n",
      "     Neutral       0.60      0.55      0.57       845\n",
      "\n",
      "    accuracy                           0.45      1399\n",
      "   macro avg       0.34      0.34      0.34      1399\n",
      "weighted avg       0.47      0.45      0.46      1399\n",
      "\n",
      "F1_Score: 0.3400431733463131\n",
      "Accuracy: 0.44889206576125806\n"
     ]
    },
    {
     "data": {
      "text/plain": [
       "<Figure size 720x504 with 0 Axes>"
      ]
     },
     "execution_count": 47,
     "metadata": {},
     "output_type": "execute_result"
    },
    {
     "data": {
      "image/png": "[encoded data removed]",
      "text/plain": [
       "<Figure size 432x288 with 2 Axes>"
      ]
     },
     "metadata": {
      "needs_background": "light"
     },
     "output_type": "display_data"
    },
    {
     "data": {
      "text/plain": [
       "<Figure size 720x504 with 0 Axes>"
      ]
     },
     "metadata": {},
     "output_type": "display_data"
    }
   ],
   "source": [
    "confus_m = pd.DataFrame(confusion_matrix (y_test,st_y_pred), index = [index_val for index_val in target],\n",
    "              columns = [index_val for index_val in target])\n",
    "\n",
    "sn.heatmap(confus_m, annot=True,cmap=plt.cm.Blues)\n",
    "print(confusion_matrix (y_test,st_y_pred))\n",
    "print(classification_report(y_test,st_y_pred,target_names=target))\n",
    "print(\"F1_Score:\",f1_score(y_test,st_y_pred,average=\"macro\"))\n",
    "print(\"Accuracy:\",accuracy_score(y_test,st_y_pred))\n",
    "\n",
    "plt.ylabel(\"Origional\",fontsize=20)\n",
    "plt.xlabel(\"Predicted\",fontsize=20)\n",
    "plt.figure(figsize = (10,7))"
   ]
  },
  {
   "cell_type": "markdown",
   "id": "69a95f5c",
   "metadata": {},
   "source": [
    "# Train Test Sobel"
   ]
  },
  {
   "cell_type": "code",
   "execution_count": 22,
   "id": "fae7951a",
   "metadata": {},
   "outputs": [
    {
     "name": "stdout",
     "output_type": "stream",
     "text": [
      "Shape of X_train: (5592, 16900)\n",
      "Shape of X_test: (1399, 16900)\n",
      "Shape of y_train: (5592,)\n",
      "Shape of y_test: (1399,)\n"
     ]
    }
   ],
   "source": [
    "X=sobel_featSplit\n",
    "y=images_feature[\"Labels\"].astype(\"int\")\n",
    "\n",
    "X_train,X_test,y_train,y_test=train_test_split(X,y,test_size=0.2,random_state=75)\n",
    "\n",
    "print('Shape of X_train:', X_train.shape)\n",
    "print(\"Shape of X_test:\", X_test.shape)\n",
    "print(\"Shape of y_train:\", y_train.shape)\n",
    "print(\"Shape of y_test:\", y_test.shape)\n",
    "#target\n",
    "target=[\"Positive\",\"Negative\",\"Neutral\"]"
   ]
  },
  {
   "cell_type": "markdown",
   "id": "194b4ac0",
   "metadata": {},
   "source": [
    "# K Neighbours with Sobel"
   ]
  },
  {
   "cell_type": "code",
   "execution_count": null,
   "id": "7a6f38d2",
   "metadata": {},
   "outputs": [],
   "source": [
    "knn=KNeighboursClassifier()"
   ]
  },
  {
   "cell_type": "code",
   "execution_count": 60,
   "id": "3e1f0a4b",
   "metadata": {},
   "outputs": [
    {
     "data": {
      "text/plain": [
       "array([ 1,  1,  1, ...,  1, -1,  1])"
      ]
     },
     "execution_count": 60,
     "metadata": {},
     "output_type": "execute_result"
    }
   ],
   "source": [
    "knn_y_pred=knn.predict(X_test)\n",
    "knn_y_pred\n"
   ]
  },
  {
   "cell_type": "code",
   "execution_count": 61,
   "id": "18e6995f",
   "metadata": {},
   "outputs": [
    {
     "name": "stdout",
     "output_type": "stream",
     "text": [
      "[[  2  36  87]\n",
      " [  7 123 299]\n",
      " [ 15 223 607]]\n",
      "              precision    recall  f1-score   support\n",
      "\n",
      "    Positive       0.08      0.02      0.03       125\n",
      "    Negative       0.32      0.29      0.30       429\n",
      "     Neutral       0.61      0.72      0.66       845\n",
      "\n",
      "    accuracy                           0.52      1399\n",
      "   macro avg       0.34      0.34      0.33      1399\n",
      "weighted avg       0.48      0.52      0.49      1399\n",
      "\n",
      "F1_Score: 0.33022513494493044\n",
      "Accuracy: 0.5232308791994281\n"
     ]
    },
    {
     "data": {
      "text/plain": [
       "<Figure size 720x504 with 0 Axes>"
      ]
     },
     "execution_count": 61,
     "metadata": {},
     "output_type": "execute_result"
    },
    {
     "data": {
      "image/png": "[encoded data removed]",
      "text/plain": [
       "<Figure size 432x288 with 2 Axes>"
      ]
     },
     "metadata": {
      "needs_background": "light"
     },
     "output_type": "display_data"
    },
    {
     "data": {
      "text/plain": [
       "<Figure size 720x504 with 0 Axes>"
      ]
     },
     "metadata": {},
     "output_type": "display_data"
    }
   ],
   "source": [
    "confus_m = pd.DataFrame(confusion_matrix (y_test,knn_y_pred), index = [index_val for index_val in target],\n",
    "              columns = [index_val for index_val in target])\n",
    "\n",
    "sn.heatmap(confus_m, annot=True,cmap=plt.cm.Blues)\n",
    "print(confusion_matrix (y_test,knn_y_pred))\n",
    "print(classification_report(y_test,knn_y_pred,target_names=target))\n",
    "print(\"F1_Score:\",f1_score(y_test,knn_y_pred,average=\"macro\"))\n",
    "print(\"Accuracy:\",accuracy_score(y_test,knn_y_pred))\n",
    "\n",
    "plt.ylabel(\"Origional\",fontsize=20)\n",
    "plt.xlabel(\"Predicted\",fontsize=20)\n",
    "plt.figure(figsize = (10,7))"
   ]
  },
  {
   "cell_type": "markdown",
   "id": "aa417ee5",
   "metadata": {},
   "source": [
    "# Importing Data"
   ]
  },
  {
   "cell_type": "code",
   "execution_count": null,
   "id": "e7a760e1",
   "metadata": {},
   "outputs": [],
   "source": [
    "training_data=pd.read_csv(\"labels.csv\",index_col=0)\n",
    "training_data"
   ]
  },
  {
   "cell_type": "code",
   "execution_count": null,
   "id": "082dc0cd",
   "metadata": {},
   "outputs": [],
   "source": [
    "training_data[\"text_corrected\"].info()\n",
    "training_data[\"text_corrected\"].isnull().sum()\n",
    "\n",
    "# training_data[\"overall_sentiment\"].info()\n",
    "# training_data[\"overall_sentiment\"].isnull().sum()"
   ]
  },
  {
   "cell_type": "code",
   "execution_count": null,
   "id": "31388d5f",
   "metadata": {},
   "outputs": [],
   "source": [
    "extract_cols=training_data[[\"text_corrected\",\"overall_sentiment\",\"image_name\"]]\n",
    "extract_cols.overall_sentiment[extract_cols.overall_sentiment==\"very_positive\"]=1\n",
    "extract_cols.overall_sentiment[extract_cols.overall_sentiment==\"positive\"]=1\n",
    "extract_cols.overall_sentiment[extract_cols.overall_sentiment==\"negative\"]=-1\n",
    "extract_cols.overall_sentiment[extract_cols.overall_sentiment==\"very_negative\"]=-1\n",
    "extract_cols.overall_sentiment[extract_cols.overall_sentiment==\"neutral\"]=0\n",
    "extract_cols"
   ]
  },
  {
   "cell_type": "markdown",
   "id": "7a552a51",
   "metadata": {},
   "source": [
    "# Droping Nan Rows"
   ]
  },
  {
   "cell_type": "code",
   "execution_count": null,
   "id": "86767cc9",
   "metadata": {},
   "outputs": [],
   "source": [
    "extract_cols=extract_cols.dropna(axis=0).reset_index(drop=1)\n",
    "extract_cols"
   ]
  },
  {
   "cell_type": "markdown",
   "id": "36c279dc",
   "metadata": {},
   "source": [
    "# Cleaning Data"
   ]
  },
  {
   "cell_type": "code",
   "execution_count": null,
   "id": "495e7042",
   "metadata": {
    "scrolled": false
   },
   "outputs": [],
   "source": [
    "def remove_garbage(df_textCorrect):\n",
    "    emoji_pattern = re.compile(\"[\"\n",
    "        u\"\\U0001F600-\\U0001F64F\"  # emoticons\n",
    "        u\"\\U0001F300-\\U0001F5FF\"  # symbols & pictographs\n",
    "        u\"\\U0001F680-\\U0001F6FF\"  # transport & map symbols\n",
    "        u\"\\U0001F1E0-\\U0001F1FF\"  # flags (iOS)\n",
    "        u\"\\U00002500-\\U00002BEF\"  # chinese char\n",
    "        u\"\\U00002702-\\U000027B0\"\n",
    "        u\"\\U00002702-\\U000027B0\"\n",
    "        u\"\\U000024C2-\\U0001F251\"\n",
    "        u\"\\U0001f926-\\U0001f937\"\n",
    "        u\"\\U00010000-\\U0010ffff\"\n",
    "        u\"\\u2640-\\u2642\" \n",
    "        u\"\\u2600-\\u2B55\"\n",
    "        u\"\\u200d\"\n",
    "        u\"\\u23cf\"\n",
    "        u\"\\u23e9\"\n",
    "        u\"\\u231a\"\n",
    "        u\"\\ufe0f\"  # dingbats\n",
    "        u\"\\u3030\"\n",
    "                      \"]+\", re.UNICODE)\n",
    "    for index in range(len(df_textCorrect)):\n",
    "        clean_list=[]\n",
    "        for line in df_textCorrect.iloc[index]:\n",
    "            for letter in line:\n",
    "                if(letter not in string.punctuation):\n",
    "                    clean_list.append(letter.lower())\n",
    "        df_textCorrect.iloc[index]=\"\".join(clean_list)  \n",
    "        \n",
    "    stops = set(stopwords.words('english'))\n",
    "    for index in range(len(df_textCorrect)):\n",
    "        clean_list=[]\n",
    "        for line in df_textCorrect.iloc[index].split():\n",
    "            if line not in stops:\n",
    "                line=(line.replace(\"\\\\\",\" \").replace(\"_\",\" \").replace(\"\\n\",\" \"))\n",
    "                clean_list.append(line)\n",
    "        df_textCorrect.iloc[index]=\" \".join(clean_list)  \n",
    "        \n",
    "    for index in range(len(df_textCorrect)):\n",
    "        df_textCorrect.iloc[index]=re.sub(emoji_pattern, '',df_textCorrect.iloc[index])\n",
    "        \n",
    "    return df_textCorrect\n",
    "\n",
    "extract_cols[\"text_corrected\"]=remove_garbage(extract_cols[\"text_corrected\"])\n",
    "extract_cols\n"
   ]
  },
  {
   "cell_type": "code",
   "execution_count": 53,
   "id": "95ff98bb",
   "metadata": {},
   "outputs": [
    {
     "data": {
      "text/plain": [
       "text_corrected       0\n",
       "overall_sentiment    0\n",
       "image_name           0\n",
       "dtype: int64"
      ]
     },
     "execution_count": 53,
     "metadata": {},
     "output_type": "execute_result"
    }
   ],
   "source": [
    "extract_cols.isnull().sum()"
   ]
  },
  {
   "cell_type": "markdown",
   "id": "07648c73",
   "metadata": {},
   "source": [
    "# WRITING TO A FILE"
   ]
  },
  {
   "cell_type": "code",
   "execution_count": 54,
   "id": "ec4f0800",
   "metadata": {},
   "outputs": [],
   "source": [
    "cleaned_labels=extract_cols.to_csv(\"cleaned_labels.csv\",index=False)"
   ]
  },
  {
   "cell_type": "code",
   "execution_count": null,
   "id": "0f4bca46",
   "metadata": {},
   "outputs": [],
   "source": [
    "extract_col=pd.read_csv(\"cleaned_labels.csv\")\n",
    "extract_col=extract_col.dropna(axis=0).reset_index(drop=1)\n",
    "extract_col"
   ]
  },
  {
   "cell_type": "markdown",
   "id": "2b2b06f6",
   "metadata": {},
   "source": [
    "# Creating sparse matrix ,converting text to numeric"
   ]
  },
  {
   "cell_type": "code",
   "execution_count": 235,
   "id": "4f64ce7d",
   "metadata": {},
   "outputs": [
    {
     "name": "stdout",
     "output_type": "stream",
     "text": [
      "shape of taining data with features: (6987, 7000)\n",
      "Shape of X_train: (5589, 7000)\n",
      "Shape of X_test: (1398, 7000)\n",
      "Shape of y_train: (5589,)\n",
      "Shape of y_test: (1398,)\n"
     ]
    }
   ],
   "source": [
    "X=extract_cols[\"text_corrected\"]\n",
    "y=extract_cols[\"overall_sentiment\"].astype(\"int\")\n",
    "\n",
    "tfObject=TfidfVectorizer(max_features=7000)\n",
    "X=tfObject.fit_transform(X)\n",
    "\n",
    "#6987 rows and 10000 features for each row\n",
    "print(\"shape of taining data with features:\",X.shape)\n",
    "#using train test split\n",
    "X_train,X_test,y_train,y_test=train_test_split(X,y,test_size=0.2,random_state=63)\n",
    "\n",
    "\n",
    "# std_sc=StandardScaler()\n",
    "# X_train = std_sc.fit_transform(X_train.toarray())\n",
    "# X_test = std_sc.fit_transform (X_test.toarray())\n",
    "\n",
    "print('Shape of X_train:', X_train.shape)\n",
    "print(\"Shape of X_test:\", X_test.shape)\n",
    "print(\"Shape of y_train:\", y_train.shape)\n",
    "print(\"Shape of y_test:\", y_test.shape)\n",
    "#target\n",
    "target=[\"Positive\",\"Negative\",\"Neutral\"]"
   ]
  },
  {
   "cell_type": "markdown",
   "id": "8f967f4c",
   "metadata": {},
   "source": [
    "# 1st Model LinearSVC"
   ]
  },
  {
   "cell_type": "code",
   "execution_count": 87,
   "id": "65ed6246",
   "metadata": {},
   "outputs": [],
   "source": [
    "svcClass= LinearSVC(class_weight=\"balanced\")\n",
    "svcClass=svcClass.fit(X_train,y_train)"
   ]
  },
  {
   "cell_type": "code",
   "execution_count": 88,
   "id": "af3d9836",
   "metadata": {},
   "outputs": [
    {
     "data": {
      "text/plain": [
       "array([-1,  0,  0, ...,  0,  0,  0])"
      ]
     },
     "execution_count": 88,
     "metadata": {},
     "output_type": "execute_result"
    }
   ],
   "source": [
    "y_pred=svcClass.predict(X_test)\n",
    "y_pred"
   ]
  },
  {
   "cell_type": "code",
   "execution_count": 89,
   "id": "ce54db04",
   "metadata": {
    "scrolled": true
   },
   "outputs": [
    {
     "name": "stdout",
     "output_type": "stream",
     "text": [
      "[[ 17  35  69]\n",
      " [ 37 134 273]\n",
      " [ 84 229 520]]\n",
      "              precision    recall  f1-score   support\n",
      "\n",
      "    Positive       0.12      0.14      0.13       121\n",
      "    Negative       0.34      0.30      0.32       444\n",
      "     Neutral       0.60      0.62      0.61       833\n",
      "\n",
      "    accuracy                           0.48      1398\n",
      "   macro avg       0.35      0.36      0.35      1398\n",
      "weighted avg       0.48      0.48      0.48      1398\n",
      "\n",
      "F1_Score: 0.35437774634377756\n",
      "Accuracy: 0.4799713876967096\n"
     ]
    },
    {
     "data": {
      "text/plain": [
       "<Figure size 720x504 with 0 Axes>"
      ]
     },
     "execution_count": 89,
     "metadata": {},
     "output_type": "execute_result"
    },
    {
     "data": {
      "image/png": "[encoded data removed]",
      "text/plain": [
       "<Figure size 432x288 with 2 Axes>"
      ]
     },
     "metadata": {
      "needs_background": "light"
     },
     "output_type": "display_data"
    },
    {
     "data": {
      "text/plain": [
       "<Figure size 720x504 with 0 Axes>"
      ]
     },
     "metadata": {},
     "output_type": "display_data"
    }
   ],
   "source": [
    "confus_m = pd.DataFrame(confusion_matrix (y_test,y_pred), index = [index_val for index_val in target],\n",
    "              columns = [index_val for index_val in target])\n",
    "sn.heatmap(confus_m, annot=True,cmap=plt.cm.Blues)\n",
    "print(confusion_matrix (y_test,y_pred))\n",
    "\n",
    "#.........................Report...............................\n",
    "print(classification_report(y_test,y_pred,target_names=target))\n",
    "print(\"F1_Score:\",f1_score(y_test,y_pred,average=\"macro\"))\n",
    "print(\"Accuracy:\",accuracy_score(y_test,y_pred))\n",
    "\n",
    "plt.ylabel(\"Origional\",fontsize=20)\n",
    "plt.xlabel(\"Predicted\",fontsize=20)\n",
    "plt.figure(figsize = (10,7))\n"
   ]
  },
  {
   "cell_type": "markdown",
   "id": "14cf112e",
   "metadata": {},
   "source": [
    "# 2nd Model ExtraTreesClassifier()"
   ]
  },
  {
   "cell_type": "code",
   "execution_count": 210,
   "id": "dbad1467",
   "metadata": {},
   "outputs": [
    {
     "data": {
      "text/plain": [
       "ExtraTreesClassifier()"
      ]
     },
     "execution_count": 210,
     "metadata": {},
     "output_type": "execute_result"
    }
   ],
   "source": [
    "ex_model = ExtraTreesClassifier()\n",
    "ex_model=ex_model.fit(X_train,y_train)\n",
    "ex_model"
   ]
  },
  {
   "cell_type": "code",
   "execution_count": 211,
   "id": "e2ae9d52",
   "metadata": {},
   "outputs": [
    {
     "data": {
      "text/plain": [
       "array([-1,  0,  1, ...,  1,  1,  1])"
      ]
     },
     "execution_count": 211,
     "metadata": {},
     "output_type": "execute_result"
    }
   ],
   "source": [
    "ex_y_pred=ex_model.predict(X_test)\n",
    "ex_y_pred"
   ]
  },
  {
   "cell_type": "code",
   "execution_count": 212,
   "id": "f953f214",
   "metadata": {},
   "outputs": [
    {
     "name": "stdout",
     "output_type": "stream",
     "text": [
      "[[  7  31  83]\n",
      " [ 12  99 333]\n",
      " [ 33 167 633]]\n",
      "              precision    recall  f1-score   support\n",
      "\n",
      "    Positive       0.13      0.06      0.08       121\n",
      "    Negative       0.33      0.22      0.27       444\n",
      "     Neutral       0.60      0.76      0.67       833\n",
      "\n",
      "    accuracy                           0.53      1398\n",
      "   macro avg       0.36      0.35      0.34      1398\n",
      "weighted avg       0.48      0.53      0.49      1398\n",
      "\n",
      "F1_Score: 0.3402733207806942\n",
      "Accuracy: 0.5286123032904149\n"
     ]
    },
    {
     "data": {
      "text/plain": [
       "<Figure size 720x504 with 0 Axes>"
      ]
     },
     "execution_count": 212,
     "metadata": {},
     "output_type": "execute_result"
    },
    {
     "data": {
      "image/png": "[encoded data removed]",
      "text/plain": [
       "<Figure size 432x288 with 2 Axes>"
      ]
     },
     "metadata": {
      "needs_background": "light"
     },
     "output_type": "display_data"
    },
    {
     "data": {
      "text/plain": [
       "<Figure size 720x504 with 0 Axes>"
      ]
     },
     "metadata": {},
     "output_type": "display_data"
    }
   ],
   "source": [
    "confus_m = pd.DataFrame(confusion_matrix (y_test,ex_y_pred), index = [index_val for index_val in target],\n",
    "              columns = [index_val for index_val in target])\n",
    "\n",
    "sn.heatmap(confus_m, annot=True,cmap= \"OrRd\")\n",
    "print(confusion_matrix (y_test,ex_y_pred))\n",
    "print(classification_report(y_test,ex_y_pred,target_names=target))\n",
    "print(\"F1_Score:\",f1_score(y_test,ex_y_pred,average=\"macro\"))\n",
    "print(\"Accuracy:\",accuracy_score(y_test,ex_y_pred))\n",
    "\n",
    "plt.ylabel(\"Origional\",fontsize=20)\n",
    "plt.xlabel(\"Predicted\",fontsize=20)\n",
    "plt.figure(figsize = (10,7))"
   ]
  },
  {
   "cell_type": "markdown",
   "id": "0b6769ab",
   "metadata": {},
   "source": [
    "# 3rd Model Logistic Regression"
   ]
  },
  {
   "cell_type": "code",
   "execution_count": 63,
   "id": "ccb6c145",
   "metadata": {},
   "outputs": [],
   "source": [
    "logicClass =LogisticRegression(class_weight=\"balanced\",C=2)\n",
    "logicClass=logicClass.fit(X_train, y_train)"
   ]
  },
  {
   "cell_type": "code",
   "execution_count": 64,
   "id": "d809481a",
   "metadata": {},
   "outputs": [
    {
     "data": {
      "text/plain": [
       "array([-1,  0,  0, ...,  0,  0,  0])"
      ]
     },
     "execution_count": 64,
     "metadata": {},
     "output_type": "execute_result"
    }
   ],
   "source": [
    "logic_y_pred=logicClass.predict(X_test)\n",
    "logic_y_pred"
   ]
  },
  {
   "cell_type": "code",
   "execution_count": 65,
   "id": "2f6ae3f0",
   "metadata": {
    "scrolled": true
   },
   "outputs": [
    {
     "name": "stdout",
     "output_type": "stream",
     "text": [
      "[[ 18  44  59]\n",
      " [ 50 165 229]\n",
      " [114 275 444]]\n",
      "              precision    recall  f1-score   support\n",
      "\n",
      "          -1       0.10      0.15      0.12       121\n",
      "           0       0.34      0.37      0.36       444\n",
      "           1       0.61      0.53      0.57       833\n",
      "\n",
      "    accuracy                           0.45      1398\n",
      "   macro avg       0.35      0.35      0.35      1398\n",
      "weighted avg       0.48      0.45      0.46      1398\n",
      "\n",
      "F1_Score: 0.34727582334635354\n"
     ]
    },
    {
     "data": {
      "text/plain": [
       "<Figure size 720x504 with 0 Axes>"
      ]
     },
     "execution_count": 65,
     "metadata": {},
     "output_type": "execute_result"
    },
    {
     "data": {
      "image/png": "[encoded data removed]",
      "text/plain": [
       "<Figure size 432x288 with 2 Axes>"
      ]
     },
     "metadata": {
      "needs_background": "light"
     },
     "output_type": "display_data"
    },
    {
     "data": {
      "text/plain": [
       "<Figure size 720x504 with 0 Axes>"
      ]
     },
     "metadata": {},
     "output_type": "display_data"
    }
   ],
   "source": [
    "confus_m = pd.DataFrame(confusion_matrix (y_test,logic_y_pred), index = [index_val for index_val in target],\n",
    "              columns = [index_val for index_val in target])\n",
    "sn.heatmap(confus_m, annot=True,cmap= \"Greens_r\")\n",
    "\n",
    "print(confusion_matrix (y_test,logic_y_pred))\n",
    "print(classification_report(y_test,logic_y_pred))\n",
    "print(\"F1_Score:\",f1_score(y_test,logic_y_pred,average=\"macro\"))\n",
    "\n",
    "plt.ylabel(\"Origional\",fontsize=20)\n",
    "plt.xlabel(\"Predicted\",fontsize=20)\n",
    "plt.figure(figsize = (10,7))"
   ]
  },
  {
   "cell_type": "markdown",
   "id": "770447c4",
   "metadata": {},
   "source": [
    "# Model Saving"
   ]
  },
  {
   "cell_type": "code",
   "execution_count": 228,
   "id": "e2423a72",
   "metadata": {},
   "outputs": [],
   "source": [
    "file1=\"sentiment_svc\"\n",
    "pickle.dump(svcClass,open(file1,\"wb\"))\n",
    "\n",
    "file2=\"sentiment_logistic\"\n",
    "pickle.dump(logicClass,open(file2,\"wb\"))\n",
    "\n",
    "file3=\"sentiment_extraTree\"\n",
    "pickle.dump(ex_model,open(file3,\"wb\"))\n",
    "\n",
    "file4=\"img_multi_model\"\n",
    "pickle.dump(multi_model,open(file4,\"wb\"))\n",
    "\n",
    "file5=\"img_lda\"\n",
    "pickle.dump(lda,open(file5,\"wb\"))\n",
    "\n",
    "file6=\"img_st\"\n",
    "pickle.dump(st,open(file6,\"wb\"))"
   ]
  },
  {
   "cell_type": "markdown",
   "id": "8795a71b",
   "metadata": {},
   "source": [
    "# Voting"
   ]
  },
  {
   "cell_type": "markdown",
   "id": "019612f1",
   "metadata": {},
   "source": [
    "# Text votes"
   ]
  },
  {
   "cell_type": "code",
   "execution_count": 236,
   "id": "42d72df2",
   "metadata": {},
   "outputs": [
    {
     "name": "stdout",
     "output_type": "stream",
     "text": [
      "Text_accuracy: 0.47782546494992845\n",
      "f1_score: 0.352621967531888\n"
     ]
    }
   ],
   "source": [
    "text_estimators=[]\n",
    "text_estimators.append((\"LSVC\",svcClass))\n",
    "text_estimators.append((\"ExtraTree\",ex_model))\n",
    "text_estimators.append((\"LR\",logicClass))\n",
    "hard_level1=VotingClassifier(estimators=text_estimators,voting=\"hard\")\n",
    "hard_level1=hard_level1.fit(X_train,y_train)\n",
    "text_y_pred=hard_level1.predict(X_test)\n",
    "acc=accuracy_score(y_test,text_y_pred)\n",
    "print(\"Text_accuracy:\",acc)\n",
    "f1=f1_score(y_test,text_y_pred,average=\"macro\")\n",
    "print(\"f1_score:\",f1)"
   ]
  },
  {
   "cell_type": "markdown",
   "id": "7b2fc203",
   "metadata": {},
   "source": [
    "# Image Votes"
   ]
  },
  {
   "cell_type": "code",
   "execution_count": 222,
   "id": "6e72ec3b",
   "metadata": {},
   "outputs": [
    {
     "name": "stdout",
     "output_type": "stream",
     "text": [
      "IMG_accuracy: 0.455325232308792\n",
      "f1_score: 0.3595149682917366\n"
     ]
    }
   ],
   "source": [
    "img_estimators=[]\n",
    "img_estimators.append((\"multin\",multi_model))\n",
    "text_estimators.append((\"lda\",lda))\n",
    "text_estimators.append((\"decision\",st))\n",
    "hard_level=VotingClassifier(estimators=img_estimators,voting=\"hard\")\n",
    "hard_level=hard_level.fit(X_train,y_train)\n",
    "y_pred=hard_level.predict(X_test)\n",
    "acc_img=accuracy_score(y_test,y_pred)\n",
    "print(\"IMG_accuracy:\",acc_img)\n",
    "f1_img=f1_score(y_test,y_pred,average=\"macro\")\n",
    "print(\"f1_score:\",f1_img)"
   ]
  },
  {
   "cell_type": "markdown",
   "id": "6dc7abf4",
   "metadata": {},
   "source": [
    "# Voting On basis of text train"
   ]
  },
  {
   "cell_type": "code",
   "execution_count": 238,
   "id": "1f2941d4",
   "metadata": {},
   "outputs": [
    {
     "name": "stdout",
     "output_type": "stream",
     "text": [
      "Final_accuracy: 0.47567954220314734\n",
      "Final_f1_score: 0.34968579685856155\n"
     ]
    }
   ],
   "source": [
    "hard_level_final=VotingClassifier(estimators=[('clf', hard_level1), ('clf2', hard_level)],voting=\"hard\")\n",
    "hard_level_final=hard_level_final.fit(X_train,y_train)\n",
    "final_pred=hard_level_final.predict(X_test)\n",
    "acc=accuracy_score(y_test,final_pred)\n",
    "print(\"Final_accuracy:\",acc)\n",
    "f1=f1_score(y_test,final_pred,average=\"macro\")\n",
    "print(\"Final_f1_score:\",f1)"
   ]
  },
  {
   "cell_type": "markdown",
   "id": "f0aeb5cf",
   "metadata": {},
   "source": [
    "# voting on basis of Image train split"
   ]
  },
  {
   "cell_type": "code",
   "execution_count": 241,
   "id": "503b6285",
   "metadata": {},
   "outputs": [
    {
     "name": "stdout",
     "output_type": "stream",
     "text": [
      "Final_accuracy: 0.5103645461043602\n",
      "Final_f1_score: 0.3510407363499077\n"
     ]
    }
   ],
   "source": [
    "hard_level_final=VotingClassifier(estimators=[('clf', hard_level1), ('clf2', hard_level)],voting=\"hard\")\n",
    "hard_level_final=hard_level_final.fit(X_train,y_train)\n",
    "final_pred=hard_level_final.predict(X_test)\n",
    "acc=accuracy_score(y_test,final_pred)\n",
    "print(\"Final_accuracy:\",acc)\n",
    "f1=f1_score(y_test,final_pred,average=\"macro\")\n",
    "print(\"Final_f1_score:\",f1)"
   ]
  },
  {
   "cell_type": "markdown",
   "id": "96d6bce8",
   "metadata": {},
   "source": [
    "# Loading Models"
   ]
  },
  {
   "cell_type": "code",
   "execution_count": 247,
   "id": "8d3f88b0",
   "metadata": {},
   "outputs": [],
   "source": [
    "text_model1 = pickle.load(open('sentiment_svc', 'rb'))\n",
    "text_model2 = pickle.load(open('sentiment_logistic', 'rb'))\n",
    "text_model3 = pickle.load(open('sentiment_extraTree', 'rb'))\n",
    "\n",
    "img_model1 = pickle.load(open('img_multi_model', 'rb'))\n",
    "img_model2 = pickle.load(open('img_lda', 'rb'))\n",
    "img_model3= pickle.load(open('img_st', 'rb'))"
   ]
  },
  {
   "cell_type": "code",
   "execution_count": 251,
   "id": "d8f82a7e",
   "metadata": {},
   "outputs": [
    {
     "data": {
      "text/plain": [
       "DecisionTreeClassifier()"
      ]
     },
     "execution_count": 251,
     "metadata": {},
     "output_type": "execute_result"
    }
   ],
   "source": [
    "img_model3"
   ]
  },
  {
   "cell_type": "markdown",
   "id": "cc936862",
   "metadata": {},
   "source": [
    "Thankyou"
   ]
  }
 ],
 "metadata": {
  "kernelspec": {
   "display_name": "Python 3 (ipykernel)",
   "language": "python",
   "name": "python3"
  },
  "language_info": {
   "codemirror_mode": {
    "name": "ipython",
    "version": 3
   },
   "file_extension": ".py",
   "mimetype": "text/x-python",
   "name": "python",
   "nbconvert_exporter": "python",
   "pygments_lexer": "ipython3",
   "version": "3.9.12"
  }
 },
 "nbformat": 4,
 "nbformat_minor": 5
}
